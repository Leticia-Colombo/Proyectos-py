{
 "cells": [
  {
   "cell_type": "code",
   "execution_count": 1,
   "metadata": {},
   "outputs": [],
   "source": [
    "import pandas as pd\n",
    "import numpy as np\n",
    "import matplotlib.pyplot as plt\n",
    "import seaborn as sns\n",
    "plt.style.use(\"seaborn\")"
   ]
  },
  {
   "cell_type": "code",
   "execution_count": 2,
   "metadata": {},
   "outputs": [],
   "source": [
    "mcm=pd.read_csv(\"main_cuisine_more.csv\",sep=';')"
   ]
  },
  {
   "cell_type": "code",
   "execution_count": 3,
   "metadata": {},
   "outputs": [
    {
     "data": {
      "text/plain": [
       "Index(['userid', 'cdcountry', 'qty_shops_febrero', 'qty_shops_marzo',\n",
       "       'qty_shops_abril', 'qty_shops', 'febrero', 'marzo', 'abril',\n",
       "       'total_orders', 'not_weekend', 'weekend', 'lunch', 'dinner',\n",
       "       'shop_list', 'filter_tr', 'search', 'order_through_other',\n",
       "       'hamburguesas', 'pizzas', 'empanadas', 'helados', 'sushi', 'pollo',\n",
       "       'milanesas', 'sandwiches', 'other', 'rating_febrero', 'rating_marzo',\n",
       "       'rating_abril', 'amount_febrero', 'amount_marzo', 'amount_abril'],\n",
       "      dtype='object')"
      ]
     },
     "execution_count": 3,
     "metadata": {},
     "output_type": "execute_result"
    }
   ],
   "source": [
    "mcm.columns"
   ]
  },
  {
   "cell_type": "code",
   "execution_count": 4,
   "metadata": {},
   "outputs": [
    {
     "data": {
      "text/html": [
       "<div>\n",
       "<style scoped>\n",
       "    .dataframe tbody tr th:only-of-type {\n",
       "        vertical-align: middle;\n",
       "    }\n",
       "\n",
       "    .dataframe tbody tr th {\n",
       "        vertical-align: top;\n",
       "    }\n",
       "\n",
       "    .dataframe thead th {\n",
       "        text-align: right;\n",
       "    }\n",
       "</style>\n",
       "<table border=\"1\" class=\"dataframe\">\n",
       "  <thead>\n",
       "    <tr style=\"text-align: right;\">\n",
       "      <th></th>\n",
       "      <th>userid</th>\n",
       "      <th>cdcountry</th>\n",
       "      <th>qty_shops_febrero</th>\n",
       "      <th>qty_shops_marzo</th>\n",
       "      <th>qty_shops_abril</th>\n",
       "      <th>qty_shops</th>\n",
       "      <th>febrero</th>\n",
       "      <th>marzo</th>\n",
       "      <th>abril</th>\n",
       "      <th>total_orders</th>\n",
       "      <th>...</th>\n",
       "      <th>pollo</th>\n",
       "      <th>milanesas</th>\n",
       "      <th>sandwiches</th>\n",
       "      <th>other</th>\n",
       "      <th>rating_febrero</th>\n",
       "      <th>rating_marzo</th>\n",
       "      <th>rating_abril</th>\n",
       "      <th>amount_febrero</th>\n",
       "      <th>amount_marzo</th>\n",
       "      <th>amount_abril</th>\n",
       "    </tr>\n",
       "  </thead>\n",
       "  <tbody>\n",
       "    <tr>\n",
       "      <th>0</th>\n",
       "      <td>12585750</td>\n",
       "      <td>Uruguay</td>\n",
       "      <td>4</td>\n",
       "      <td>5</td>\n",
       "      <td>2</td>\n",
       "      <td>8</td>\n",
       "      <td>6</td>\n",
       "      <td>7</td>\n",
       "      <td>3</td>\n",
       "      <td>15</td>\n",
       "      <td>...</td>\n",
       "      <td>0</td>\n",
       "      <td>0</td>\n",
       "      <td>0</td>\n",
       "      <td>0</td>\n",
       "      <td>4.32</td>\n",
       "      <td>4.37</td>\n",
       "      <td>4.59</td>\n",
       "      <td>254.97</td>\n",
       "      <td>181.40</td>\n",
       "      <td>180.00</td>\n",
       "    </tr>\n",
       "    <tr>\n",
       "      <th>1</th>\n",
       "      <td>793542</td>\n",
       "      <td>Uruguay</td>\n",
       "      <td>6</td>\n",
       "      <td>5</td>\n",
       "      <td>4</td>\n",
       "      <td>13</td>\n",
       "      <td>6</td>\n",
       "      <td>6</td>\n",
       "      <td>4</td>\n",
       "      <td>16</td>\n",
       "      <td>...</td>\n",
       "      <td>0</td>\n",
       "      <td>1</td>\n",
       "      <td>0</td>\n",
       "      <td>7</td>\n",
       "      <td>4.46</td>\n",
       "      <td>4.67</td>\n",
       "      <td>4.68</td>\n",
       "      <td>361.83</td>\n",
       "      <td>292.92</td>\n",
       "      <td>467.75</td>\n",
       "    </tr>\n",
       "    <tr>\n",
       "      <th>2</th>\n",
       "      <td>363691</td>\n",
       "      <td>Uruguay</td>\n",
       "      <td>3</td>\n",
       "      <td>0</td>\n",
       "      <td>0</td>\n",
       "      <td>3</td>\n",
       "      <td>3</td>\n",
       "      <td>0</td>\n",
       "      <td>0</td>\n",
       "      <td>3</td>\n",
       "      <td>...</td>\n",
       "      <td>0</td>\n",
       "      <td>0</td>\n",
       "      <td>0</td>\n",
       "      <td>1</td>\n",
       "      <td>4.43</td>\n",
       "      <td>NaN</td>\n",
       "      <td>NaN</td>\n",
       "      <td>480.00</td>\n",
       "      <td>NaN</td>\n",
       "      <td>NaN</td>\n",
       "    </tr>\n",
       "    <tr>\n",
       "      <th>3</th>\n",
       "      <td>1473991</td>\n",
       "      <td>Uruguay</td>\n",
       "      <td>1</td>\n",
       "      <td>0</td>\n",
       "      <td>3</td>\n",
       "      <td>4</td>\n",
       "      <td>1</td>\n",
       "      <td>0</td>\n",
       "      <td>3</td>\n",
       "      <td>4</td>\n",
       "      <td>...</td>\n",
       "      <td>0</td>\n",
       "      <td>0</td>\n",
       "      <td>0</td>\n",
       "      <td>1</td>\n",
       "      <td>3.94</td>\n",
       "      <td>NaN</td>\n",
       "      <td>4.43</td>\n",
       "      <td>289.00</td>\n",
       "      <td>NaN</td>\n",
       "      <td>399.67</td>\n",
       "    </tr>\n",
       "    <tr>\n",
       "      <th>4</th>\n",
       "      <td>20212539</td>\n",
       "      <td>Uruguay</td>\n",
       "      <td>0</td>\n",
       "      <td>0</td>\n",
       "      <td>1</td>\n",
       "      <td>1</td>\n",
       "      <td>0</td>\n",
       "      <td>0</td>\n",
       "      <td>1</td>\n",
       "      <td>1</td>\n",
       "      <td>...</td>\n",
       "      <td>0</td>\n",
       "      <td>0</td>\n",
       "      <td>0</td>\n",
       "      <td>0</td>\n",
       "      <td>NaN</td>\n",
       "      <td>NaN</td>\n",
       "      <td>4.39</td>\n",
       "      <td>NaN</td>\n",
       "      <td>NaN</td>\n",
       "      <td>405.00</td>\n",
       "    </tr>\n",
       "  </tbody>\n",
       "</table>\n",
       "<p>5 rows × 33 columns</p>\n",
       "</div>"
      ],
      "text/plain": [
       "     userid cdcountry  qty_shops_febrero  qty_shops_marzo  qty_shops_abril  \\\n",
       "0  12585750   Uruguay                  4                5                2   \n",
       "1    793542   Uruguay                  6                5                4   \n",
       "2    363691   Uruguay                  3                0                0   \n",
       "3   1473991   Uruguay                  1                0                3   \n",
       "4  20212539   Uruguay                  0                0                1   \n",
       "\n",
       "   qty_shops  febrero  marzo  abril  total_orders  ...  pollo  milanesas  \\\n",
       "0          8        6      7      3            15  ...      0          0   \n",
       "1         13        6      6      4            16  ...      0          1   \n",
       "2          3        3      0      0             3  ...      0          0   \n",
       "3          4        1      0      3             4  ...      0          0   \n",
       "4          1        0      0      1             1  ...      0          0   \n",
       "\n",
       "   sandwiches  other  rating_febrero  rating_marzo  rating_abril  \\\n",
       "0           0      0            4.32          4.37          4.59   \n",
       "1           0      7            4.46          4.67          4.68   \n",
       "2           0      1            4.43           NaN           NaN   \n",
       "3           0      1            3.94           NaN          4.43   \n",
       "4           0      0             NaN           NaN          4.39   \n",
       "\n",
       "   amount_febrero  amount_marzo  amount_abril  \n",
       "0          254.97        181.40        180.00  \n",
       "1          361.83        292.92        467.75  \n",
       "2          480.00           NaN           NaN  \n",
       "3          289.00           NaN        399.67  \n",
       "4             NaN           NaN        405.00  \n",
       "\n",
       "[5 rows x 33 columns]"
      ]
     },
     "execution_count": 4,
     "metadata": {},
     "output_type": "execute_result"
    }
   ],
   "source": [
    "mcm.head()"
   ]
  },
  {
   "cell_type": "code",
   "execution_count": 5,
   "metadata": {
    "scrolled": false
   },
   "outputs": [
    {
     "data": {
      "text/html": [
       "<div>\n",
       "<style scoped>\n",
       "    .dataframe tbody tr th:only-of-type {\n",
       "        vertical-align: middle;\n",
       "    }\n",
       "\n",
       "    .dataframe tbody tr th {\n",
       "        vertical-align: top;\n",
       "    }\n",
       "\n",
       "    .dataframe thead th {\n",
       "        text-align: right;\n",
       "    }\n",
       "</style>\n",
       "<table border=\"1\" class=\"dataframe\">\n",
       "  <thead>\n",
       "    <tr style=\"text-align: right;\">\n",
       "      <th></th>\n",
       "      <th>userid</th>\n",
       "      <th>qty_shops_febrero</th>\n",
       "      <th>qty_shops_marzo</th>\n",
       "      <th>qty_shops_abril</th>\n",
       "      <th>qty_shops</th>\n",
       "      <th>febrero</th>\n",
       "      <th>marzo</th>\n",
       "      <th>abril</th>\n",
       "      <th>total_orders</th>\n",
       "      <th>not_weekend</th>\n",
       "      <th>...</th>\n",
       "      <th>pollo</th>\n",
       "      <th>milanesas</th>\n",
       "      <th>sandwiches</th>\n",
       "      <th>other</th>\n",
       "      <th>rating_febrero</th>\n",
       "      <th>rating_marzo</th>\n",
       "      <th>rating_abril</th>\n",
       "      <th>amount_febrero</th>\n",
       "      <th>amount_marzo</th>\n",
       "      <th>amount_abril</th>\n",
       "    </tr>\n",
       "  </thead>\n",
       "  <tbody>\n",
       "    <tr>\n",
       "      <th>count</th>\n",
       "      <td>2.579190e+05</td>\n",
       "      <td>257919.000000</td>\n",
       "      <td>257919.000000</td>\n",
       "      <td>257919.000000</td>\n",
       "      <td>257919.000000</td>\n",
       "      <td>257919.000000</td>\n",
       "      <td>257919.000000</td>\n",
       "      <td>257919.000000</td>\n",
       "      <td>257919.000000</td>\n",
       "      <td>257919.000000</td>\n",
       "      <td>...</td>\n",
       "      <td>257919.000000</td>\n",
       "      <td>257919.000000</td>\n",
       "      <td>257919.0</td>\n",
       "      <td>257919.000000</td>\n",
       "      <td>168897.000000</td>\n",
       "      <td>156028.000000</td>\n",
       "      <td>148300.000000</td>\n",
       "      <td>169660.000000</td>\n",
       "      <td>156816.000000</td>\n",
       "      <td>148859.000000</td>\n",
       "    </tr>\n",
       "    <tr>\n",
       "      <th>mean</th>\n",
       "      <td>7.183611e+06</td>\n",
       "      <td>1.484012</td>\n",
       "      <td>1.330491</td>\n",
       "      <td>1.279731</td>\n",
       "      <td>3.458202</td>\n",
       "      <td>1.969808</td>\n",
       "      <td>1.722735</td>\n",
       "      <td>1.705004</td>\n",
       "      <td>5.233003</td>\n",
       "      <td>3.687421</td>\n",
       "      <td>...</td>\n",
       "      <td>0.048682</td>\n",
       "      <td>0.281674</td>\n",
       "      <td>0.0</td>\n",
       "      <td>1.403111</td>\n",
       "      <td>4.432584</td>\n",
       "      <td>4.441309</td>\n",
       "      <td>4.466246</td>\n",
       "      <td>462.550103</td>\n",
       "      <td>459.790116</td>\n",
       "      <td>474.051013</td>\n",
       "    </tr>\n",
       "    <tr>\n",
       "      <th>std</th>\n",
       "      <td>6.937066e+06</td>\n",
       "      <td>1.841825</td>\n",
       "      <td>1.817697</td>\n",
       "      <td>1.823625</td>\n",
       "      <td>3.521490</td>\n",
       "      <td>4.998443</td>\n",
       "      <td>4.754939</td>\n",
       "      <td>4.439858</td>\n",
       "      <td>7.304615</td>\n",
       "      <td>8.018085</td>\n",
       "      <td>...</td>\n",
       "      <td>0.401113</td>\n",
       "      <td>1.023638</td>\n",
       "      <td>0.0</td>\n",
       "      <td>3.009237</td>\n",
       "      <td>0.278981</td>\n",
       "      <td>0.257166</td>\n",
       "      <td>0.246803</td>\n",
       "      <td>398.703967</td>\n",
       "      <td>299.315520</td>\n",
       "      <td>306.389847</td>\n",
       "    </tr>\n",
       "    <tr>\n",
       "      <th>min</th>\n",
       "      <td>1.800000e+01</td>\n",
       "      <td>0.000000</td>\n",
       "      <td>0.000000</td>\n",
       "      <td>0.000000</td>\n",
       "      <td>1.000000</td>\n",
       "      <td>0.000000</td>\n",
       "      <td>0.000000</td>\n",
       "      <td>0.000000</td>\n",
       "      <td>1.000000</td>\n",
       "      <td>0.000000</td>\n",
       "      <td>...</td>\n",
       "      <td>0.000000</td>\n",
       "      <td>0.000000</td>\n",
       "      <td>0.0</td>\n",
       "      <td>0.000000</td>\n",
       "      <td>1.000000</td>\n",
       "      <td>1.000000</td>\n",
       "      <td>1.000000</td>\n",
       "      <td>0.000000</td>\n",
       "      <td>0.000000</td>\n",
       "      <td>0.000000</td>\n",
       "    </tr>\n",
       "    <tr>\n",
       "      <th>25%</th>\n",
       "      <td>1.111048e+06</td>\n",
       "      <td>0.000000</td>\n",
       "      <td>0.000000</td>\n",
       "      <td>0.000000</td>\n",
       "      <td>1.000000</td>\n",
       "      <td>0.000000</td>\n",
       "      <td>0.000000</td>\n",
       "      <td>0.000000</td>\n",
       "      <td>1.000000</td>\n",
       "      <td>1.000000</td>\n",
       "      <td>...</td>\n",
       "      <td>0.000000</td>\n",
       "      <td>0.000000</td>\n",
       "      <td>0.0</td>\n",
       "      <td>0.000000</td>\n",
       "      <td>4.290000</td>\n",
       "      <td>4.310000</td>\n",
       "      <td>4.340000</td>\n",
       "      <td>275.100000</td>\n",
       "      <td>270.000000</td>\n",
       "      <td>275.400000</td>\n",
       "    </tr>\n",
       "    <tr>\n",
       "      <th>50%</th>\n",
       "      <td>4.414377e+06</td>\n",
       "      <td>1.000000</td>\n",
       "      <td>1.000000</td>\n",
       "      <td>1.000000</td>\n",
       "      <td>2.000000</td>\n",
       "      <td>1.000000</td>\n",
       "      <td>1.000000</td>\n",
       "      <td>1.000000</td>\n",
       "      <td>3.000000</td>\n",
       "      <td>2.000000</td>\n",
       "      <td>...</td>\n",
       "      <td>0.000000</td>\n",
       "      <td>0.000000</td>\n",
       "      <td>0.0</td>\n",
       "      <td>0.000000</td>\n",
       "      <td>4.480000</td>\n",
       "      <td>4.480000</td>\n",
       "      <td>4.510000</td>\n",
       "      <td>403.390000</td>\n",
       "      <td>402.170000</td>\n",
       "      <td>420.000000</td>\n",
       "    </tr>\n",
       "    <tr>\n",
       "      <th>75%</th>\n",
       "      <td>1.414677e+07</td>\n",
       "      <td>2.000000</td>\n",
       "      <td>2.000000</td>\n",
       "      <td>2.000000</td>\n",
       "      <td>4.000000</td>\n",
       "      <td>3.000000</td>\n",
       "      <td>2.000000</td>\n",
       "      <td>2.000000</td>\n",
       "      <td>6.000000</td>\n",
       "      <td>4.000000</td>\n",
       "      <td>...</td>\n",
       "      <td>0.000000</td>\n",
       "      <td>0.000000</td>\n",
       "      <td>0.0</td>\n",
       "      <td>2.000000</td>\n",
       "      <td>4.630000</td>\n",
       "      <td>4.620000</td>\n",
       "      <td>4.640000</td>\n",
       "      <td>585.000000</td>\n",
       "      <td>588.807500</td>\n",
       "      <td>616.130000</td>\n",
       "    </tr>\n",
       "    <tr>\n",
       "      <th>max</th>\n",
       "      <td>2.120470e+07</td>\n",
       "      <td>34.000000</td>\n",
       "      <td>36.000000</td>\n",
       "      <td>37.000000</td>\n",
       "      <td>64.000000</td>\n",
       "      <td>2069.000000</td>\n",
       "      <td>1966.000000</td>\n",
       "      <td>1723.000000</td>\n",
       "      <td>1423.000000</td>\n",
       "      <td>3100.000000</td>\n",
       "      <td>...</td>\n",
       "      <td>64.000000</td>\n",
       "      <td>51.000000</td>\n",
       "      <td>0.0</td>\n",
       "      <td>136.000000</td>\n",
       "      <td>5.000000</td>\n",
       "      <td>5.000000</td>\n",
       "      <td>5.000000</td>\n",
       "      <td>109101.000000</td>\n",
       "      <td>10114.470000</td>\n",
       "      <td>7360.670000</td>\n",
       "    </tr>\n",
       "  </tbody>\n",
       "</table>\n",
       "<p>8 rows × 32 columns</p>\n",
       "</div>"
      ],
      "text/plain": [
       "             userid  qty_shops_febrero  qty_shops_marzo  qty_shops_abril  \\\n",
       "count  2.579190e+05      257919.000000    257919.000000    257919.000000   \n",
       "mean   7.183611e+06           1.484012         1.330491         1.279731   \n",
       "std    6.937066e+06           1.841825         1.817697         1.823625   \n",
       "min    1.800000e+01           0.000000         0.000000         0.000000   \n",
       "25%    1.111048e+06           0.000000         0.000000         0.000000   \n",
       "50%    4.414377e+06           1.000000         1.000000         1.000000   \n",
       "75%    1.414677e+07           2.000000         2.000000         2.000000   \n",
       "max    2.120470e+07          34.000000        36.000000        37.000000   \n",
       "\n",
       "           qty_shops        febrero          marzo          abril  \\\n",
       "count  257919.000000  257919.000000  257919.000000  257919.000000   \n",
       "mean        3.458202       1.969808       1.722735       1.705004   \n",
       "std         3.521490       4.998443       4.754939       4.439858   \n",
       "min         1.000000       0.000000       0.000000       0.000000   \n",
       "25%         1.000000       0.000000       0.000000       0.000000   \n",
       "50%         2.000000       1.000000       1.000000       1.000000   \n",
       "75%         4.000000       3.000000       2.000000       2.000000   \n",
       "max        64.000000    2069.000000    1966.000000    1723.000000   \n",
       "\n",
       "        total_orders    not_weekend  ...          pollo      milanesas  \\\n",
       "count  257919.000000  257919.000000  ...  257919.000000  257919.000000   \n",
       "mean        5.233003       3.687421  ...       0.048682       0.281674   \n",
       "std         7.304615       8.018085  ...       0.401113       1.023638   \n",
       "min         1.000000       0.000000  ...       0.000000       0.000000   \n",
       "25%         1.000000       1.000000  ...       0.000000       0.000000   \n",
       "50%         3.000000       2.000000  ...       0.000000       0.000000   \n",
       "75%         6.000000       4.000000  ...       0.000000       0.000000   \n",
       "max      1423.000000    3100.000000  ...      64.000000      51.000000   \n",
       "\n",
       "       sandwiches          other  rating_febrero   rating_marzo  \\\n",
       "count    257919.0  257919.000000   168897.000000  156028.000000   \n",
       "mean          0.0       1.403111        4.432584       4.441309   \n",
       "std           0.0       3.009237        0.278981       0.257166   \n",
       "min           0.0       0.000000        1.000000       1.000000   \n",
       "25%           0.0       0.000000        4.290000       4.310000   \n",
       "50%           0.0       0.000000        4.480000       4.480000   \n",
       "75%           0.0       2.000000        4.630000       4.620000   \n",
       "max           0.0     136.000000        5.000000       5.000000   \n",
       "\n",
       "        rating_abril  amount_febrero   amount_marzo   amount_abril  \n",
       "count  148300.000000   169660.000000  156816.000000  148859.000000  \n",
       "mean        4.466246      462.550103     459.790116     474.051013  \n",
       "std         0.246803      398.703967     299.315520     306.389847  \n",
       "min         1.000000        0.000000       0.000000       0.000000  \n",
       "25%         4.340000      275.100000     270.000000     275.400000  \n",
       "50%         4.510000      403.390000     402.170000     420.000000  \n",
       "75%         4.640000      585.000000     588.807500     616.130000  \n",
       "max         5.000000   109101.000000   10114.470000    7360.670000  \n",
       "\n",
       "[8 rows x 32 columns]"
      ]
     },
     "execution_count": 5,
     "metadata": {},
     "output_type": "execute_result"
    }
   ],
   "source": [
    "mcm.describe()"
   ]
  },
  {
   "cell_type": "code",
   "execution_count": 6,
   "metadata": {},
   "outputs": [],
   "source": [
    "#set userid as index\n",
    "mcm.set_index(\"userid\",inplace=True)"
   ]
  },
  {
   "cell_type": "markdown",
   "metadata": {},
   "source": [
    "### Total Orders by month"
   ]
  },
  {
   "cell_type": "code",
   "execution_count": 101,
   "metadata": {
    "scrolled": true
   },
   "outputs": [
    {
     "data": {
      "text/plain": [
       "1       0.42\n",
       "2       0.21\n",
       "3       0.12\n",
       "4       0.08\n",
       "5       0.05\n",
       "6       0.03\n",
       "7       0.02\n",
       "8       0.02\n",
       "9       0.01\n",
       "10      0.01\n",
       "11      0.01\n",
       "12      0.00\n",
       "13      0.00\n",
       "14      0.00\n",
       "15      0.00\n",
       "16      0.00\n",
       "17      0.00\n",
       "18      0.00\n",
       "19      0.00\n",
       "20      0.00\n",
       "2069    0.00\n",
       "21      0.00\n",
       "22      0.00\n",
       "23      0.00\n",
       "24      0.00\n",
       "25      0.00\n",
       "26      0.00\n",
       "27      0.00\n",
       "28      0.00\n",
       "29      0.00\n",
       "30      0.00\n",
       "31      0.00\n",
       "32      0.00\n",
       "33      0.00\n",
       "34      0.00\n",
       "35      0.00\n",
       "36      0.00\n",
       "37      0.00\n",
       "38      0.00\n",
       "39      0.00\n",
       "40      0.00\n",
       "41      0.00\n",
       "42      0.00\n",
       "43      0.00\n",
       "44      0.00\n",
       "45      0.00\n",
       "47      0.00\n",
       "48      0.00\n",
       "49      0.00\n",
       "50      0.00\n",
       "51      0.00\n",
       "52      0.00\n",
       "54      0.00\n",
       "55      0.00\n",
       "56      0.00\n",
       "57      0.00\n",
       "58      0.00\n",
       "61      0.00\n",
       "70      0.00\n",
       "Name: febrero, dtype: float64"
      ]
     },
     "execution_count": 101,
     "metadata": {},
     "output_type": "execute_result"
    }
   ],
   "source": [
    "# qty shops orders distribution\n",
    "round(mcm.loc[(mcm.febrero>0),\"febrero\"].value_counts(sort = False, dropna = True, ascending= False, normalize = True),2)"
   ]
  },
  {
   "cell_type": "code",
   "execution_count": 108,
   "metadata": {},
   "outputs": [
    {
     "data": {
      "text/plain": [
       "0.7448709924195006"
      ]
     },
     "execution_count": 108,
     "metadata": {},
     "output_type": "execute_result"
    }
   ],
   "source": [
    "mcm.febrero.loc[((mcm.febrero<=3) & (mcm.febrero>0)) ].shape[0]/mcm.febrero.loc[mcm.febrero>0].shape[0]"
   ]
  },
  {
   "cell_type": "code",
   "execution_count": 8,
   "metadata": {
    "scrolled": true
   },
   "outputs": [
    {
     "data": {
      "image/png": "[encoded data removed]",
      "text/plain": [
       "<Figure size 432x288 with 1 Axes>"
      ]
     },
     "metadata": {
      "needs_background": "light"
     },
     "output_type": "display_data"
    }
   ],
   "source": [
    "plt.hist(mcm.loc[(mcm.febrero>0)&(mcm.febrero<=15),\"febrero\"])\n",
    "plt.xlabel('Total Orders')\n",
    "plt.ylabel('Total Users')\n",
    "plt.show()"
   ]
  },
  {
   "cell_type": "code",
   "execution_count": 111,
   "metadata": {
    "scrolled": false
   },
   "outputs": [
    {
     "data": {
      "image/png": "[encoded data removed]",
      "text/plain": [
       "<Figure size 576x576 with 1 Axes>"
      ]
     },
     "metadata": {
      "needs_background": "light"
     },
     "output_type": "display_data"
    }
   ],
   "source": [
    "# Orders by month distribution\n",
    "\n",
    "# Colours for different percentiles\n",
    "perc_1_colour = 'gold'\n",
    "perc_5_colour = 'gold'\n",
    "perc_10_colour = 'mediumaquamarine'\n",
    "perc_15_colour = 'deepskyblue'\n",
    "perc_25_colour = 'peachpuff'\n",
    "perc_30_colour = 'peachpuff'\n",
    "\n",
    "\n",
    "# Plot the Histogram from the random data\n",
    "fig, ax = plt.subplots(figsize=(8,8))\n",
    "counts, bins, patches = ax.hist(mcm.loc[(mcm.febrero>0)&(mcm.febrero<=15),\"febrero\"], \n",
    "                                            facecolor=perc_10_colour, edgecolor='gray',bins=15)\n",
    "\n",
    "# Set the ticks to be at the edges of the bins.\n",
    "ax.set_xticks(bins.round(0))\n",
    "plt.xticks(rotation=70)\n",
    "\n",
    "# Set the graph title and axes titles\n",
    "plt.title('Orders by month distribution', fontsize=20)\n",
    "plt.ylabel('Count', fontsize=15)\n",
    "plt.xlabel('Total Orders', fontsize=15)\n",
    "\n",
    "# Calculate bar centre to display the count of data points and %\n",
    "bin_x_centers = .5 * np.diff(bins) + bins[:-1]\n",
    "bin_y_centers = ax.get_yticks()[1] * 5.25        \n",
    "\n",
    "# Display the the count of data points and % for each bar in histogram\n",
    "for i in range(len(bins)-1):\n",
    "    bin_label = \"{0:,}\".format(counts[i]) + \"  ({0:,.2f}%)\".format((counts[i]/counts.sum())*100)\n",
    "    plt.text(bin_x_centers[i], bin_y_centers, bin_label, rotation=90, rotation_mode='anchor')\n",
    "    \n",
    "# Annotation for bar values\n",
    "ax.annotate('Each bar shows count and percentage of total',\n",
    "            xy=(.85,.30), xycoords='figure fraction',\n",
    "            horizontalalignment='center', verticalalignment='bottom',\n",
    "            fontsize=10, bbox=dict(boxstyle=\"round\", fc=\"white\"),\n",
    "            rotation=-90)\n",
    "\n",
    "#create legend\n",
    "\n",
    "labels= [\"0-25 Percentile\",\"25-50 Percentile\", \"50-75 Percentile\", \">95 Percentile\"]\n",
    "plt.legend(labels, bbox_to_anchor=(0.5, 0., 0.80, 0.99))\n",
    "\n",
    "# Display the graph\n",
    "plt.show()"
   ]
  },
  {
   "cell_type": "markdown",
   "metadata": {},
   "source": [
    "El 75% de los usuarios realizaron sólo una ordene en el mes de Febrero, "
   ]
  },
  {
   "cell_type": "markdown",
   "metadata": {},
   "source": [
    "### Quantity parteners over total orders "
   ]
  },
  {
   "cell_type": "code",
   "execution_count": 10,
   "metadata": {
    "scrolled": true
   },
   "outputs": [
    {
     "data": {
      "text/plain": [
       "(-2.07, 206.9]      1.0\n",
       "(206.9, 413.8]      0.0\n",
       "(413.8, 620.7]      0.0\n",
       "(620.7, 827.6]      0.0\n",
       "(827.6, 1034.5]     0.0\n",
       "(1034.5, 1241.4]    0.0\n",
       "(1241.4, 1448.3]    0.0\n",
       "(1448.3, 1655.2]    0.0\n",
       "(1655.2, 1862.1]    0.0\n",
       "(1862.1, 2069.0]    0.0\n",
       "Name: febrero, dtype: float64"
      ]
     },
     "execution_count": 10,
     "metadata": {},
     "output_type": "execute_result"
    }
   ],
   "source": [
    "np.round(mcm.febrero.value_counts(sort = False, dropna = True, ascending= False, normalize = True, bins = 10),2)"
   ]
  },
  {
   "cell_type": "code",
   "execution_count": 11,
   "metadata": {},
   "outputs": [],
   "source": [
    "# qty shops over total orders\n",
    "# nos sirve para ver la distribución de las ordenes en los diferentes partners\n",
    "mcm['p_qty_febrero']=np.round((mcm.qty_shops_febrero/mcm.febrero),2)\n",
    "mcm['p_qty_marzo']=np.round((mcm.qty_shops_marzo/mcm.marzo),2)\n",
    "mcm['p_qty_abril']=np.round((mcm.qty_shops_abril/mcm.abril),2)\n",
    "mcm['p_qty']=np.round((mcm.qty_shops/mcm.total_orders),2)\n"
   ]
  },
  {
   "cell_type": "code",
   "execution_count": 12,
   "metadata": {},
   "outputs": [
    {
     "data": {
      "text/html": [
       "<div>\n",
       "<style scoped>\n",
       "    .dataframe tbody tr th:only-of-type {\n",
       "        vertical-align: middle;\n",
       "    }\n",
       "\n",
       "    .dataframe tbody tr th {\n",
       "        vertical-align: top;\n",
       "    }\n",
       "\n",
       "    .dataframe thead th {\n",
       "        text-align: right;\n",
       "    }\n",
       "</style>\n",
       "<table border=\"1\" class=\"dataframe\">\n",
       "  <thead>\n",
       "    <tr style=\"text-align: right;\">\n",
       "      <th></th>\n",
       "      <th>cdcountry</th>\n",
       "      <th>qty_shops_febrero</th>\n",
       "      <th>qty_shops_marzo</th>\n",
       "      <th>qty_shops_abril</th>\n",
       "      <th>qty_shops</th>\n",
       "      <th>febrero</th>\n",
       "      <th>marzo</th>\n",
       "      <th>abril</th>\n",
       "      <th>total_orders</th>\n",
       "      <th>not_weekend</th>\n",
       "      <th>...</th>\n",
       "      <th>rating_febrero</th>\n",
       "      <th>rating_marzo</th>\n",
       "      <th>rating_abril</th>\n",
       "      <th>amount_febrero</th>\n",
       "      <th>amount_marzo</th>\n",
       "      <th>amount_abril</th>\n",
       "      <th>p_qty_febrero</th>\n",
       "      <th>p_qty_marzo</th>\n",
       "      <th>p_qty_abril</th>\n",
       "      <th>p_qty</th>\n",
       "    </tr>\n",
       "    <tr>\n",
       "      <th>userid</th>\n",
       "      <th></th>\n",
       "      <th></th>\n",
       "      <th></th>\n",
       "      <th></th>\n",
       "      <th></th>\n",
       "      <th></th>\n",
       "      <th></th>\n",
       "      <th></th>\n",
       "      <th></th>\n",
       "      <th></th>\n",
       "      <th></th>\n",
       "      <th></th>\n",
       "      <th></th>\n",
       "      <th></th>\n",
       "      <th></th>\n",
       "      <th></th>\n",
       "      <th></th>\n",
       "      <th></th>\n",
       "      <th></th>\n",
       "      <th></th>\n",
       "      <th></th>\n",
       "    </tr>\n",
       "  </thead>\n",
       "  <tbody>\n",
       "    <tr>\n",
       "      <th>12585750</th>\n",
       "      <td>Uruguay</td>\n",
       "      <td>4</td>\n",
       "      <td>5</td>\n",
       "      <td>2</td>\n",
       "      <td>8</td>\n",
       "      <td>6</td>\n",
       "      <td>7</td>\n",
       "      <td>3</td>\n",
       "      <td>15</td>\n",
       "      <td>9</td>\n",
       "      <td>...</td>\n",
       "      <td>4.32</td>\n",
       "      <td>4.37</td>\n",
       "      <td>4.59</td>\n",
       "      <td>254.97</td>\n",
       "      <td>181.40</td>\n",
       "      <td>180.00</td>\n",
       "      <td>0.67</td>\n",
       "      <td>0.71</td>\n",
       "      <td>0.67</td>\n",
       "      <td>0.53</td>\n",
       "    </tr>\n",
       "    <tr>\n",
       "      <th>793542</th>\n",
       "      <td>Uruguay</td>\n",
       "      <td>6</td>\n",
       "      <td>5</td>\n",
       "      <td>4</td>\n",
       "      <td>13</td>\n",
       "      <td>6</td>\n",
       "      <td>6</td>\n",
       "      <td>4</td>\n",
       "      <td>16</td>\n",
       "      <td>11</td>\n",
       "      <td>...</td>\n",
       "      <td>4.46</td>\n",
       "      <td>4.67</td>\n",
       "      <td>4.68</td>\n",
       "      <td>361.83</td>\n",
       "      <td>292.92</td>\n",
       "      <td>467.75</td>\n",
       "      <td>1.00</td>\n",
       "      <td>0.83</td>\n",
       "      <td>1.00</td>\n",
       "      <td>0.81</td>\n",
       "    </tr>\n",
       "    <tr>\n",
       "      <th>363691</th>\n",
       "      <td>Uruguay</td>\n",
       "      <td>3</td>\n",
       "      <td>0</td>\n",
       "      <td>0</td>\n",
       "      <td>3</td>\n",
       "      <td>3</td>\n",
       "      <td>0</td>\n",
       "      <td>0</td>\n",
       "      <td>3</td>\n",
       "      <td>1</td>\n",
       "      <td>...</td>\n",
       "      <td>4.43</td>\n",
       "      <td>NaN</td>\n",
       "      <td>NaN</td>\n",
       "      <td>480.00</td>\n",
       "      <td>NaN</td>\n",
       "      <td>NaN</td>\n",
       "      <td>1.00</td>\n",
       "      <td>NaN</td>\n",
       "      <td>NaN</td>\n",
       "      <td>1.00</td>\n",
       "    </tr>\n",
       "    <tr>\n",
       "      <th>1473991</th>\n",
       "      <td>Uruguay</td>\n",
       "      <td>1</td>\n",
       "      <td>0</td>\n",
       "      <td>3</td>\n",
       "      <td>4</td>\n",
       "      <td>1</td>\n",
       "      <td>0</td>\n",
       "      <td>3</td>\n",
       "      <td>4</td>\n",
       "      <td>3</td>\n",
       "      <td>...</td>\n",
       "      <td>3.94</td>\n",
       "      <td>NaN</td>\n",
       "      <td>4.43</td>\n",
       "      <td>289.00</td>\n",
       "      <td>NaN</td>\n",
       "      <td>399.67</td>\n",
       "      <td>1.00</td>\n",
       "      <td>NaN</td>\n",
       "      <td>1.00</td>\n",
       "      <td>1.00</td>\n",
       "    </tr>\n",
       "    <tr>\n",
       "      <th>20212539</th>\n",
       "      <td>Uruguay</td>\n",
       "      <td>0</td>\n",
       "      <td>0</td>\n",
       "      <td>1</td>\n",
       "      <td>1</td>\n",
       "      <td>0</td>\n",
       "      <td>0</td>\n",
       "      <td>1</td>\n",
       "      <td>1</td>\n",
       "      <td>1</td>\n",
       "      <td>...</td>\n",
       "      <td>NaN</td>\n",
       "      <td>NaN</td>\n",
       "      <td>4.39</td>\n",
       "      <td>NaN</td>\n",
       "      <td>NaN</td>\n",
       "      <td>405.00</td>\n",
       "      <td>NaN</td>\n",
       "      <td>NaN</td>\n",
       "      <td>1.00</td>\n",
       "      <td>1.00</td>\n",
       "    </tr>\n",
       "  </tbody>\n",
       "</table>\n",
       "<p>5 rows × 36 columns</p>\n",
       "</div>"
      ],
      "text/plain": [
       "         cdcountry  qty_shops_febrero  qty_shops_marzo  qty_shops_abril  \\\n",
       "userid                                                                    \n",
       "12585750   Uruguay                  4                5                2   \n",
       "793542     Uruguay                  6                5                4   \n",
       "363691     Uruguay                  3                0                0   \n",
       "1473991    Uruguay                  1                0                3   \n",
       "20212539   Uruguay                  0                0                1   \n",
       "\n",
       "          qty_shops  febrero  marzo  abril  total_orders  not_weekend  ...  \\\n",
       "userid                                                                 ...   \n",
       "12585750          8        6      7      3            15            9  ...   \n",
       "793542           13        6      6      4            16           11  ...   \n",
       "363691            3        3      0      0             3            1  ...   \n",
       "1473991           4        1      0      3             4            3  ...   \n",
       "20212539          1        0      0      1             1            1  ...   \n",
       "\n",
       "          rating_febrero  rating_marzo  rating_abril  amount_febrero  \\\n",
       "userid                                                                 \n",
       "12585750            4.32          4.37          4.59          254.97   \n",
       "793542              4.46          4.67          4.68          361.83   \n",
       "363691              4.43           NaN           NaN          480.00   \n",
       "1473991             3.94           NaN          4.43          289.00   \n",
       "20212539             NaN           NaN          4.39             NaN   \n",
       "\n",
       "          amount_marzo  amount_abril  p_qty_febrero  p_qty_marzo  p_qty_abril  \\\n",
       "userid                                                                          \n",
       "12585750        181.40        180.00           0.67         0.71         0.67   \n",
       "793542          292.92        467.75           1.00         0.83         1.00   \n",
       "363691             NaN           NaN           1.00          NaN          NaN   \n",
       "1473991            NaN        399.67           1.00          NaN         1.00   \n",
       "20212539           NaN        405.00            NaN          NaN         1.00   \n",
       "\n",
       "          p_qty  \n",
       "userid           \n",
       "12585750   0.53  \n",
       "793542     0.81  \n",
       "363691     1.00  \n",
       "1473991    1.00  \n",
       "20212539   1.00  \n",
       "\n",
       "[5 rows x 36 columns]"
      ]
     },
     "execution_count": 12,
     "metadata": {},
     "output_type": "execute_result"
    }
   ],
   "source": [
    "mcm.head()"
   ]
  },
  {
   "cell_type": "code",
   "execution_count": 13,
   "metadata": {},
   "outputs": [
    {
     "data": {
      "text/plain": [
       "(-0.002, 0.1]    0.00\n",
       "(0.1, 0.2]       0.00\n",
       "(0.2, 0.3]       0.01\n",
       "(0.3, 0.4]       0.02\n",
       "(0.4, 0.5]       0.05\n",
       "(0.5, 0.6]       0.02\n",
       "(0.6, 0.7]       0.04\n",
       "(0.7, 0.8]       0.04\n",
       "(0.8, 0.9]       0.01\n",
       "(0.9, 1.0]       0.47\n",
       "Name: p_qty_febrero, dtype: float64"
      ]
     },
     "execution_count": 13,
     "metadata": {},
     "output_type": "execute_result"
    }
   ],
   "source": [
    "# qty shops over total orders distribution\n",
    "# casi el 50% de los usuarios no repite ¿? \n",
    "np.round(mcm.p_qty_febrero.value_counts(sort = False, dropna = True, ascending= False, normalize = True, bins = 10),2)"
   ]
  },
  {
   "cell_type": "markdown",
   "metadata": {},
   "source": [
    "#### ¿Qué pasa con aquellos usuarios que tienen entre 3 y 10 compras en el mes?"
   ]
  },
  {
   "cell_type": "code",
   "execution_count": 113,
   "metadata": {
    "scrolled": false
   },
   "outputs": [
    {
     "data": {
      "image/png": "[encoded data removed]",
      "text/plain": [
       "<Figure size 576x576 with 1 Axes>"
      ]
     },
     "metadata": {
      "needs_background": "light"
     },
     "output_type": "display_data"
    }
   ],
   "source": [
    "# Colours for different percentiles\n",
    "perc_1_colour = 'peachpuff'\n",
    "perc_5_colour = 'gold'\n",
    "perc_10_colour = 'peachpuff'\n",
    "perc_15_colour = 'deepskyblue'\n",
    "perc_25_colour = 'peachpuff'\n",
    "perc_30_colour = 'peachpuff'\n",
    "\n",
    "\n",
    "# Plot the Histogram from the random data\n",
    "fig, ax = plt.subplots(figsize=(8,8))\n",
    "counts, bins, patches = ax.hist(mcm.loc[(mcm.febrero<=10)&(mcm.febrero>=3),\"p_qty_febrero\"], \n",
    "                                            facecolor=perc_10_colour, edgecolor='gray',bins=10)\n",
    "\n",
    "# Set the ticks to be at the edges of the bins.\n",
    "ax.set_xticks(bins.round(1))\n",
    "plt.xticks(rotation=70)\n",
    "\n",
    "# Set the graph title and axes titles\n",
    "plt.title('Qty shops distribution (3-10 orders by month)', fontsize=20)\n",
    "plt.ylabel('Count', fontsize=15)\n",
    "plt.xlabel('Percentage of different shops per month', fontsize=15)\n",
    "\n",
    "# Calculate bar centre to display the count of data points and %\n",
    "bin_x_centers = .5 * np.diff(bins) + bins[:-1]\n",
    "bin_y_centers = ax.get_yticks()[1] * 3.25\n",
    "\n",
    "# Display the the count of data points and % for each bar in histogram\n",
    "for i in range(len(bins)-1):\n",
    "    bin_label = \"  ({0:,.1f}%)\".format((counts[i]/counts.sum())*100)\n",
    "    plt.text(bin_x_centers[i], bin_y_centers, bin_label, rotation=90, rotation_mode='anchor')\n",
    "    \n",
    "# Annotation for bar values\n",
    "# ax.annotate('Each bar shows count and percentage of total',\n",
    "#             xy=(.85,.30), xycoords='figure fraction',\n",
    "#             horizontalalignment='center', verticalalignment='bottom',\n",
    "#             fontsize=10, bbox=dict(boxstyle=\"round\", fc=\"white\"),\n",
    "#             rotation=-90)\n",
    "\n",
    "#create legend\n",
    "\n",
    "labels= [\"0-25 Percentile\",\"25-50 Percentile\", \"50-75 Percentile\", \">95 Percentile\"]\n",
    "plt.legend(labels, bbox_to_anchor=(0.5, 0., 0.80, 0.99))\n",
    "\n",
    "# Display the graph\n",
    "plt.show()"
   ]
  },
  {
   "cell_type": "code",
   "execution_count": 15,
   "metadata": {
    "scrolled": false
   },
   "outputs": [
    {
     "data": {
      "text/plain": [
       "(0.09809999999999999, 0.19]    0.01\n",
       "(0.19, 0.28]                   0.03\n",
       "(0.28, 0.37]                   0.05\n",
       "(0.37, 0.46]                   0.04\n",
       "(0.46, 0.55]                   0.07\n",
       "(0.55, 0.64]                   0.07\n",
       "(0.64, 0.73]                   0.17\n",
       "(0.73, 0.82]                   0.14\n",
       "(0.82, 0.91]                   0.06\n",
       "(0.91, 1.0]                    0.36\n",
       "Name: p_qty_febrero, dtype: float64"
      ]
     },
     "execution_count": 15,
     "metadata": {},
     "output_type": "execute_result"
    }
   ],
   "source": [
    "# dist. de qty shops en aquellos que tienen entre 10 y 30 órdenes p/m\n",
    "round(mcm.loc[(mcm.febrero<=10)&(mcm.febrero>=3),\"p_qty_febrero\"].value_counts(sort = False, dropna = True, ascending= False, normalize = True, bins = 10),2)"
   ]
  },
  {
   "cell_type": "markdown",
   "metadata": {},
   "source": [
    "#### ¿Qué pasa con aquellos usuarios que tienen entre 11 y 30 compras en el mes?"
   ]
  },
  {
   "cell_type": "code",
   "execution_count": 16,
   "metadata": {
    "scrolled": false
   },
   "outputs": [
    {
     "data": {
      "image/png": "[encoded data removed]",
      "text/plain": [
       "<Figure size 576x576 with 1 Axes>"
      ]
     },
     "metadata": {
      "needs_background": "light"
     },
     "output_type": "display_data"
    }
   ],
   "source": [
    "# Colours for different percentiles\n",
    "perc_1_colour = 'peachpuff'\n",
    "perc_5_colour = 'gold'\n",
    "perc_10_colour = 'mediumaquamarine'\n",
    "perc_15_colour = 'deepskyblue'\n",
    "perc_25_colour = 'peachpuff'\n",
    "perc_30_colour = 'peachpuff'\n",
    "\n",
    "\n",
    "# Plot the Histogram from the random data\n",
    "fig, ax = plt.subplots(figsize=(8,8))\n",
    "counts, bins, patches = ax.hist(mcm.loc[(mcm.febrero<=30)&(mcm.febrero>=11),\"p_qty_febrero\"], \n",
    "                                            facecolor=perc_10_colour, edgecolor='gray',bins=10)\n",
    "\n",
    "# Set the ticks to be at the edges of the bins.\n",
    "ax.set_xticks(bins.round(1))\n",
    "plt.xticks(rotation=70)\n",
    "\n",
    "# Set the graph title and axes titles\n",
    "plt.title('percentage of different shops per month distribution', fontsize=20)\n",
    "plt.ylabel('Count', fontsize=15)\n",
    "plt.xlabel('Percentage of different shops per month', fontsize=15)\n",
    "\n",
    "# Calculate bar centre to display the count of data points and %\n",
    "bin_x_centers = .5 * np.diff(bins) + bins[:-1]\n",
    "bin_y_centers = ax.get_yticks()[1] * 3.75        \n",
    "\n",
    "# Display the the count of data points and % for each bar in histogram\n",
    "for i in range(len(bins)-1):\n",
    "    bin_label = \"{0:,}\".format(counts[i]) + \"  ({0:,.2f}%)\".format((counts[i]/counts.sum())*100)\n",
    "    plt.text(bin_x_centers[i], bin_y_centers, bin_label, rotation=90, rotation_mode='anchor')\n",
    "    \n",
    "# Annotation for bar values\n",
    "# ax.annotate('Each bar shows count and percentage of total',\n",
    "#             xy=(.85,.30), xycoords='figure fraction',\n",
    "#             horizontalalignment='center', verticalalignment='bottom',\n",
    "#             fontsize=10, bbox=dict(boxstyle=\"round\", fc=\"white\"),\n",
    "#             rotation=-90)\n",
    "\n",
    "#create legend\n",
    "\n",
    "labels= [\"0-25 Percentile\",\"25-50 Percentile\", \"50-75 Percentile\", \">95 Percentile\"]\n",
    "plt.legend(labels, bbox_to_anchor=(0.5, 0., 0.80, 0.99))\n",
    "\n",
    "# Display the graph\n",
    "plt.show()"
   ]
  },
  {
   "cell_type": "code",
   "execution_count": 17,
   "metadata": {
    "scrolled": true
   },
   "outputs": [
    {
     "data": {
      "text/plain": [
       "(0.028, 0.127]    0.02\n",
       "(0.127, 0.224]    0.04\n",
       "(0.224, 0.321]    0.08\n",
       "(0.321, 0.418]    0.10\n",
       "(0.418, 0.515]    0.16\n",
       "(0.515, 0.612]    0.16\n",
       "(0.612, 0.709]    0.17\n",
       "(0.709, 0.806]    0.14\n",
       "(0.806, 0.903]    0.08\n",
       "(0.903, 1.0]      0.05\n",
       "Name: p_qty_febrero, dtype: float64"
      ]
     },
     "execution_count": 17,
     "metadata": {},
     "output_type": "execute_result"
    }
   ],
   "source": [
    "# dist. de qty shops en aquellos que tienen entre 10 y 30 órdenes p/m\n",
    "round(mcm.loc[(mcm.febrero<=30)&(mcm.febrero>=10),\"p_qty_febrero\"].value_counts(sort = False, dropna = True, ascending= False, normalize = True, bins = 10),2)"
   ]
  },
  {
   "cell_type": "markdown",
   "metadata": {},
   "source": [
    "Si observamos la distribucón de cantidad de partners sober el total de órdenes tenemos que casi el 50% compra en lugares diferentes pero esto incluye los que tienen 1 orden en el mes.\n",
    "\n",
    "Hagamos ahora una segmentación entre aquellos que compran entre 3 y 10 veces al mes, ahí se observa un cambio en la distribución, sólo el 36% de los usuarios, en febrero, compraron siempre en distintos parteners, el resto repite al menos una vez.\n",
    "\n",
    "Si observamos los que compraron entre 10 y 30 veces en el mes entonces sólo el 5% compró en partners distintos todas las veces, el resto parece repetir más de una vez el partner en el que compra. El 50% repite por lo menos más de una vez el partenr."
   ]
  },
  {
   "cell_type": "code",
   "execution_count": 18,
   "metadata": {},
   "outputs": [
    {
     "data": {
      "text/plain": [
       "<matplotlib.axes._subplots.AxesSubplot at 0x1ed4ea6bc18>"
      ]
     },
     "execution_count": 18,
     "metadata": {},
     "output_type": "execute_result"
    },
    {
     "data": {
      "image/png": "[encoded data removed]",
      "text/plain": [
       "<Figure size 1080x1080 with 4 Axes>"
      ]
     },
     "metadata": {
      "needs_background": "light"
     },
     "output_type": "display_data"
    }
   ],
   "source": [
    "# comparamos distribuciones\n",
    "import seaborn as sns\n",
    "import matplotlib.pyplot as plt\n",
    "\n",
    " \n",
    "# plot\n",
    "f, axes = plt.subplots(2, 2, figsize=(15,15), sharex=True)\n",
    "sns.distplot(mcm.p_qty_febrero.dropna() , color=\"skyblue\", ax=axes[0, 0],bins=10, kde=False)\n",
    "sns.distplot(mcm.p_qty_febrero.loc[(mcm.febrero<=10)&(mcm.febrero>=3)].dropna() , color=\"olive\", ax=axes[0,1],bins=10, kde=False)\n",
    "sns.distplot(mcm.p_qty_febrero.loc[(mcm.febrero<=20)&(mcm.febrero>=11)].dropna() , color=\"gold\", ax=axes[1,0],bins=10, kde=False)\n",
    "sns.distplot(mcm.p_qty_febrero.loc[(mcm.febrero>=21)].dropna() , color=\"red\", ax=axes[1, 1],bins=10, kde=False)\n"
   ]
  },
  {
   "cell_type": "code",
   "execution_count": 19,
   "metadata": {
    "scrolled": false
   },
   "outputs": [
    {
     "data": {
      "text/plain": [
       "<matplotlib.axes._subplots.AxesSubplot at 0x1ed4f0aef28>"
      ]
     },
     "execution_count": 19,
     "metadata": {},
     "output_type": "execute_result"
    },
    {
     "data": {
      "image/png": "[encoded data removed]",
      "text/plain": [
       "<Figure size 1080x1080 with 4 Axes>"
      ]
     },
     "metadata": {
      "needs_background": "light"
     },
     "output_type": "display_data"
    }
   ],
   "source": [
    "# comparamos entre los meses\n",
    " \n",
    "# plot\n",
    "f, axes = plt.subplots(2, 2, figsize=(15,15), sharex=True)\n",
    "sns.distplot( mcm[\"p_qty_febrero\"].dropna() , color=\"skyblue\", ax=axes[0, 0],bins=10, kde=False)\n",
    "sns.distplot( mcm[\"p_qty_marzo\"].dropna() , color=\"olive\", ax=axes[1, 0],bins=10, kde=False)\n",
    "sns.distplot( mcm[\"p_qty_abril\"].dropna() , color=\"gold\", ax=axes[0, 1],bins=10, kde=False)\n",
    "sns.distplot( mcm[\"p_qty\"].dropna() , color=\"red\", ax=axes[1, 1],bins=10, kde=False)\n",
    "\n"
   ]
  },
  {
   "cell_type": "markdown",
   "metadata": {},
   "source": [
    "### ¿Cuándo realizan sus pedidos?  Entre semana o fines de semana..."
   ]
  },
  {
   "cell_type": "markdown",
   "metadata": {},
   "source": [
    "Creo que como segundo click de podría investigar por ejemplo, los que compran sólo entre semana dist. de órdenes o dist. de main cuisine, para ver si existe una asociación entre una variable y otra"
   ]
  },
  {
   "cell_type": "code",
   "execution_count": 20,
   "metadata": {},
   "outputs": [
    {
     "data": {
      "text/plain": [
       "Index(['cdcountry', 'qty_shops_febrero', 'qty_shops_marzo', 'qty_shops_abril',\n",
       "       'qty_shops', 'febrero', 'marzo', 'abril', 'total_orders', 'not_weekend',\n",
       "       'weekend', 'lunch', 'dinner', 'shop_list', 'filter_tr', 'search',\n",
       "       'order_through_other', 'hamburguesas', 'pizzas', 'empanadas', 'helados',\n",
       "       'sushi', 'pollo', 'milanesas', 'sandwiches', 'other', 'rating_febrero',\n",
       "       'rating_marzo', 'rating_abril', 'amount_febrero', 'amount_marzo',\n",
       "       'amount_abril', 'p_qty_febrero', 'p_qty_marzo', 'p_qty_abril', 'p_qty'],\n",
       "      dtype='object')"
      ]
     },
     "execution_count": 20,
     "metadata": {},
     "output_type": "execute_result"
    }
   ],
   "source": [
    "mcm.columns"
   ]
  },
  {
   "cell_type": "code",
   "execution_count": 21,
   "metadata": {},
   "outputs": [],
   "source": [
    "# distribución de ordenes entre semana vs. fin de semana\n",
    "mcm['p_wknd_orders']=np.round((mcm.weekend/mcm.total_orders),2)\n",
    "mcm['p_week_orders']=np.round((mcm.not_weekend/mcm.total_orders),2)"
   ]
  },
  {
   "cell_type": "code",
   "execution_count": 22,
   "metadata": {
    "scrolled": false
   },
   "outputs": [
    {
     "data": {
      "text/plain": [
       "(-0.002, 0.2]    0.45\n",
       "(0.2, 0.4]       0.20\n",
       "(0.4, 0.6]       0.16\n",
       "(0.6, 0.8]       0.06\n",
       "(0.8, 1.0]       0.14\n",
       "Name: p_wknd_orders, dtype: float64"
      ]
     },
     "execution_count": 22,
     "metadata": {},
     "output_type": "execute_result"
    }
   ],
   "source": [
    "np.round(mcm.p_wknd_orders.loc[mcm.p_wknd_orders<=1].value_counts(sort = False, dropna = True, ascending= False, normalize = True, bins = 5),2)"
   ]
  },
  {
   "cell_type": "code",
   "execution_count": 23,
   "metadata": {
    "scrolled": true
   },
   "outputs": [
    {
     "data": {
      "text/plain": [
       "0.13"
      ]
     },
     "execution_count": 23,
     "metadata": {},
     "output_type": "execute_result"
    }
   ],
   "source": [
    "round(mcm.p_wknd_orders.loc[mcm.p_wknd_orders==1].shape[0]/mcm.p_wknd_orders.loc[mcm.p_wknd_orders<=1].shape[0],2)"
   ]
  },
  {
   "cell_type": "code",
   "execution_count": 24,
   "metadata": {
    "scrolled": false
   },
   "outputs": [
    {
     "data": {
      "text/plain": [
       "0.36"
      ]
     },
     "execution_count": 24,
     "metadata": {},
     "output_type": "execute_result"
    }
   ],
   "source": [
    "round(mcm.p_week_orders.loc[mcm.p_week_orders==1].shape[0]/mcm.p_week_orders.loc[mcm.p_week_orders<=1].shape[0],2)"
   ]
  },
  {
   "cell_type": "markdown",
   "metadata": {},
   "source": [
    "**Entre enero, marzo y abril el 13% de los usuarios pidió sólo los fines de semana mientras que un 36% pidió sólo entre semana.**"
   ]
  },
  {
   "cell_type": "code",
   "execution_count": 25,
   "metadata": {
    "scrolled": false
   },
   "outputs": [
    {
     "data": {
      "image/png": "[encoded data removed]",
      "text/plain": [
       "<Figure size 576x576 with 1 Axes>"
      ]
     },
     "metadata": {
      "needs_background": "light"
     },
     "output_type": "display_data"
    }
   ],
   "source": [
    "# Colours for different percentiles\n",
    "perc_1_colour = 'peachpuff'\n",
    "\n",
    "# Plot the Histogram from the random data\n",
    "fig, ax = plt.subplots(figsize=(8,8))\n",
    "counts, bins, patches = ax.hist(mcm.p_wknd_orders.loc[mcm.p_wknd_orders<=1], \n",
    "                                            facecolor=perc_1_colour, edgecolor='gray',bins=10)\n",
    "\n",
    "# Set the ticks to be at the edges of the bins.\n",
    "ax.set_xticks(bins.round(1))\n",
    "plt.xticks(rotation=70)\n",
    "\n",
    "# Set the graph title and axes titles\n",
    "plt.title('Orders made on weekend distribution', fontsize=20)\n",
    "plt.ylabel('Count', fontsize=15)\n",
    "plt.xlabel('Percentage of orders made on weekendh', fontsize=15)\n",
    "\n",
    "# Calculate bar centre to display the count of data points and %\n",
    "bin_x_centers = .5 * np.diff(bins) + bins[:-1]\n",
    "bin_y_centers = ax.get_yticks()[1] * 1.8        \n",
    "\n",
    "# Display the the count of data points and % for each bar in histogram\n",
    "for i in range(len(bins)-1):\n",
    "    bin_label = \"  ({0:,.1f}%)\".format(round((counts[i]/counts.sum())*100,0))\n",
    "    plt.text(bin_x_centers[i], bin_y_centers, bin_label, rotation=90, rotation_mode='anchor')\n",
    "    \n",
    "\n",
    "# #create legend\n",
    "# labels= [\"0-25 Percentile\",\"25-50 Percentile\", \"50-75 Percentile\", \">95 Percentile\"]\n",
    "# plt.legend(labels, bbox_to_anchor=(0.5, 0., 0.80, 0.99))\n",
    "\n",
    "# Display the graph\n",
    "plt.show()"
   ]
  },
  {
   "cell_type": "markdown",
   "metadata": {},
   "source": [
    "### En dónde realizan las órdenes? Algunos compran sólo en el shop-list, o sólo buscando?"
   ]
  },
  {
   "cell_type": "markdown",
   "metadata": {},
   "source": [
    "Para un segundo click, los que compran el la shop-list lo hacen más que nada el fin de semana?"
   ]
  },
  {
   "cell_type": "code",
   "execution_count": 26,
   "metadata": {
    "scrolled": true
   },
   "outputs": [
    {
     "data": {
      "text/html": [
       "<div>\n",
       "<style scoped>\n",
       "    .dataframe tbody tr th:only-of-type {\n",
       "        vertical-align: middle;\n",
       "    }\n",
       "\n",
       "    .dataframe tbody tr th {\n",
       "        vertical-align: top;\n",
       "    }\n",
       "\n",
       "    .dataframe thead th {\n",
       "        text-align: right;\n",
       "    }\n",
       "</style>\n",
       "<table border=\"1\" class=\"dataframe\">\n",
       "  <thead>\n",
       "    <tr style=\"text-align: right;\">\n",
       "      <th></th>\n",
       "      <th>shop_list</th>\n",
       "      <th>filter_tr</th>\n",
       "      <th>search</th>\n",
       "      <th>order_through_other</th>\n",
       "      <th>total_orders</th>\n",
       "    </tr>\n",
       "    <tr>\n",
       "      <th>userid</th>\n",
       "      <th></th>\n",
       "      <th></th>\n",
       "      <th></th>\n",
       "      <th></th>\n",
       "      <th></th>\n",
       "    </tr>\n",
       "  </thead>\n",
       "  <tbody>\n",
       "    <tr>\n",
       "      <th>12585750</th>\n",
       "      <td>0</td>\n",
       "      <td>7</td>\n",
       "      <td>1</td>\n",
       "      <td>8</td>\n",
       "      <td>15</td>\n",
       "    </tr>\n",
       "    <tr>\n",
       "      <th>793542</th>\n",
       "      <td>0</td>\n",
       "      <td>11</td>\n",
       "      <td>2</td>\n",
       "      <td>3</td>\n",
       "      <td>16</td>\n",
       "    </tr>\n",
       "    <tr>\n",
       "      <th>363691</th>\n",
       "      <td>1</td>\n",
       "      <td>1</td>\n",
       "      <td>1</td>\n",
       "      <td>0</td>\n",
       "      <td>3</td>\n",
       "    </tr>\n",
       "    <tr>\n",
       "      <th>1473991</th>\n",
       "      <td>0</td>\n",
       "      <td>2</td>\n",
       "      <td>0</td>\n",
       "      <td>2</td>\n",
       "      <td>4</td>\n",
       "    </tr>\n",
       "    <tr>\n",
       "      <th>20212539</th>\n",
       "      <td>0</td>\n",
       "      <td>1</td>\n",
       "      <td>0</td>\n",
       "      <td>0</td>\n",
       "      <td>1</td>\n",
       "    </tr>\n",
       "  </tbody>\n",
       "</table>\n",
       "</div>"
      ],
      "text/plain": [
       "          shop_list  filter_tr  search  order_through_other  total_orders\n",
       "userid                                                                   \n",
       "12585750          0          7       1                    8            15\n",
       "793542            0         11       2                    3            16\n",
       "363691            1          1       1                    0             3\n",
       "1473991           0          2       0                    2             4\n",
       "20212539          0          1       0                    0             1"
      ]
     },
     "execution_count": 26,
     "metadata": {},
     "output_type": "execute_result"
    }
   ],
   "source": [
    "mcm[[\"shop_list\", \"filter_tr\", \"search\", \"order_through_other\",\"total_orders\"]].head()"
   ]
  },
  {
   "cell_type": "code",
   "execution_count": 28,
   "metadata": {
    "scrolled": true
   },
   "outputs": [],
   "source": [
    "# distribución de ordenes entre semana vs. fin de semana\n",
    "mcm['shop_list_orders']=np.round((mcm.shop_list/mcm.total_orders),2)\n",
    "mcm['filter_orders']=np.round((mcm.filter_tr/mcm.total_orders),2)\n",
    "mcm['search_orders']=np.round((mcm.search/mcm.total_orders),2)\n",
    "mcm['others_orders_thorough']=np.round((mcm.order_through_other/mcm.total_orders),2)\n",
    "mcm['s_f_s_orders']=np.round(((mcm.search+mcm.filter_tr+mcm.shop_list)/mcm.total_orders),2)"
   ]
  },
  {
   "cell_type": "code",
   "execution_count": 102,
   "metadata": {},
   "outputs": [
    {
     "data": {
      "text/plain": [
       "0.9100105071747332"
      ]
     },
     "execution_count": 102,
     "metadata": {},
     "output_type": "execute_result"
    }
   ],
   "source": [
    "mcm[mcm['shop_list_orders']+mcm['filter_orders']+mcm['search_orders']+mcm['others_orders_thorough']<=1]"
   ]
  },
  {
   "cell_type": "code",
   "execution_count": 120,
   "metadata": {},
   "outputs": [
    {
     "data": {
      "image/png": "[encoded data removed]",
      "text/plain": [
       "<Figure size 576x576 with 1 Axes>"
      ]
     },
     "metadata": {},
     "output_type": "display_data"
    }
   ],
   "source": [
    "# Colours for different percentiles\n",
    "perc_1_colour = 'peachpuff'\n",
    "\n",
    "# Plot the Histogram from the random data\n",
    "fig, ax = plt.subplots(figsize=(8,8))\n",
    "counts, bins, patches = ax.hist(mcm[mcm['shop_list_orders']+mcm['filter_orders']+mcm['search_orders']+mcm['others_orders_thorough']<=1].shop_list_orders, \n",
    "                                            facecolor=perc_1_colour, edgecolor='gray',bins=10)\n",
    "\n",
    "# Set the ticks to be at the edges of the bins.\n",
    "ax.set_xticks(bins.round(1))\n",
    "plt.xticks(rotation=70)\n",
    "\n",
    "# Set the graph title and axes titles\n",
    "plt.title('Orders made in the shop-list', fontsize=20)\n",
    "plt.ylabel('Count', fontsize=15)\n",
    "plt.xlabel('Percentage of orders made in shop-list', fontsize=15)\n",
    "\n",
    "# Calculate bar centre to display the count of data points and %\n",
    "bin_x_centers = .5 * np.diff(bins) + bins[:-1]\n",
    "bin_y_centers = ax.get_yticks()[1] * 1.8        \n",
    "\n",
    "# Display the the count of data points and % for each bar in histogram\n",
    "for i in range(len(bins)-1):\n",
    "    bin_label = \"  ({0:,.1f}%)\".format(round((counts[i]/counts.sum())*100,0))\n",
    "    plt.text(bin_x_centers[i], bin_y_centers, bin_label, rotation=90, rotation_mode='anchor')\n",
    "    \n",
    "\n",
    "# #create legend\n",
    "# labels= [\"0-25 Percentile\",\"25-50 Percentile\", \"50-75 Percentile\", \">95 Percentile\"]\n",
    "# plt.legend(labels, bbox_to_anchor=(0.5, 0., 0.80, 0.99))\n",
    "\n",
    "# Display the graph\n",
    "plt.show()"
   ]
  },
  {
   "cell_type": "code",
   "execution_count": 105,
   "metadata": {
    "scrolled": true
   },
   "outputs": [
    {
     "data": {
      "text/plain": [
       "(-0.002, 0.1]    0.56\n",
       "(0.1, 0.2]       0.05\n",
       "(0.2, 0.3]       0.04\n",
       "(0.3, 0.4]       0.06\n",
       "(0.4, 0.5]       0.08\n",
       "(0.5, 0.6]       0.02\n",
       "(0.6, 0.7]       0.03\n",
       "(0.7, 0.8]       0.02\n",
       "(0.8, 0.9]       0.01\n",
       "(0.9, 1.0]       0.12\n",
       "Name: shop_list_orders, dtype: float64"
      ]
     },
     "execution_count": 105,
     "metadata": {},
     "output_type": "execute_result"
    }
   ],
   "source": [
    "np.round(mcm[mcm['shop_list_orders']+mcm['filter_orders']+mcm['search_orders']+mcm['others_orders_thorough']<=1].shop_list_orders.value_counts(sort = False, dropna = True, ascending= False, normalize = True, bins = 10),2)"
   ]
  },
  {
   "cell_type": "code",
   "execution_count": 114,
   "metadata": {
    "scrolled": true
   },
   "outputs": [
    {
     "data": {
      "text/plain": [
       "0.12"
      ]
     },
     "execution_count": 114,
     "metadata": {},
     "output_type": "execute_result"
    }
   ],
   "source": [
    "np.round(mcm[(mcm['shop_list_orders']+mcm['filter_orders']+mcm['search_orders']+mcm['others_orders_thorough']<=1) & (mcm['shop_list_orders']==1)].shop_list_orders.shape[0]/mcm[(mcm['shop_list_orders']+mcm['filter_orders']+mcm['search_orders']+mcm['others_orders_thorough']<=1)].shop_list_orders.shape[0],2)"
   ]
  },
  {
   "cell_type": "code",
   "execution_count": 116,
   "metadata": {
    "scrolled": true
   },
   "outputs": [
    {
     "data": {
      "text/plain": [
       "0.14"
      ]
     },
     "execution_count": 116,
     "metadata": {},
     "output_type": "execute_result"
    }
   ],
   "source": [
    "np.round(mcm[(mcm['shop_list_orders']+mcm['filter_orders']+mcm['search_orders']+mcm['others_orders_thorough']<=1) & (mcm['filter_orders']==1)].shop_list_orders.shape[0]/mcm[(mcm['shop_list_orders']+mcm['filter_orders']+mcm['search_orders']+mcm['others_orders_thorough']<=1)].shop_list_orders.shape[0],2)"
   ]
  },
  {
   "cell_type": "code",
   "execution_count": 117,
   "metadata": {
    "scrolled": true
   },
   "outputs": [
    {
     "data": {
      "text/plain": [
       "0.06"
      ]
     },
     "execution_count": 117,
     "metadata": {},
     "output_type": "execute_result"
    }
   ],
   "source": [
    "np.round(mcm[(mcm['shop_list_orders']+mcm['filter_orders']+mcm['search_orders']+mcm['others_orders_thorough']<=1) & (mcm['search_orders']==1)].shop_list_orders.shape[0]/mcm[(mcm['shop_list_orders']+mcm['filter_orders']+mcm['search_orders']+mcm['others_orders_thorough']<=1)].shop_list_orders.shape[0],2)"
   ]
  },
  {
   "cell_type": "code",
   "execution_count": 118,
   "metadata": {
    "scrolled": true
   },
   "outputs": [
    {
     "data": {
      "text/plain": [
       "0.14"
      ]
     },
     "execution_count": 118,
     "metadata": {},
     "output_type": "execute_result"
    }
   ],
   "source": [
    "np.round(mcm[(mcm['shop_list_orders']+mcm['filter_orders']+mcm['search_orders']+mcm['others_orders_thorough']<=1) & (mcm['others_orders_thorough']==1)].shop_list_orders.shape[0]/mcm[(mcm['shop_list_orders']+mcm['filter_orders']+mcm['search_orders']+mcm['others_orders_thorough']<=1)].shop_list_orders.shape[0],2)"
   ]
  },
  {
   "cell_type": "code",
   "execution_count": 29,
   "metadata": {
    "scrolled": true
   },
   "outputs": [
    {
     "data": {
      "text/plain": [
       "0.14"
      ]
     },
     "execution_count": 29,
     "metadata": {},
     "output_type": "execute_result"
    }
   ],
   "source": [
    "np.round(mcm[(mcm['shop_list_orders']+mcm['filter_orders']+mcm['search_orders']+mcm['others_orders_thorough']<=1) & (mcm['others_orders_thorough']==1)].shop_list_orders.shape[0]/mcm[(mcm['shop_list_orders']+mcm['filter_orders']+mcm['search_orders']+mcm['others_orders_thorough']<=1)].s_f_s_orders.shape[0],2)"
   ]
  },
  {
   "cell_type": "markdown",
   "metadata": {},
   "source": [
    "**El 12% de los usuarios relizan todas sus órdenes en el shop-list, mientras que el 14% utilizan algún filtro en sus órdnes y el 6% utilizan solamente el search. Habría que investigar como es la distribución según la cantidad total de ordenes.**"
   ]
  },
  {
   "cell_type": "markdown",
   "metadata": {},
   "source": [
    "### ¿En qué horario se realizan las compras? ¿Hay usuarios que sólo compran al medio día?"
   ]
  },
  {
   "cell_type": "code",
   "execution_count": 31,
   "metadata": {},
   "outputs": [],
   "source": [
    "# distribución de ordenes en el día\n",
    "mcm['p_lunch_orders']=np.round((mcm.lunch/mcm.total_orders),2)\n",
    "mcm['p_dinner_orders']=np.round((mcm.dinner/mcm.total_orders),2)"
   ]
  },
  {
   "cell_type": "code",
   "execution_count": 44,
   "metadata": {},
   "outputs": [
    {
     "data": {
      "text/plain": [
       "(-0.002, 0.2]    0.54\n",
       "(0.2, 0.4]       0.13\n",
       "(0.4, 0.6]       0.12\n",
       "(0.6, 0.8]       0.06\n",
       "(0.8, 1.0]       0.15\n",
       "Name: p_lunch_orders, dtype: float64"
      ]
     },
     "execution_count": 44,
     "metadata": {},
     "output_type": "execute_result"
    }
   ],
   "source": [
    "np.round(mcm.p_lunch_orders.loc[(mcm.p_dinner_orders + mcm.p_lunch_orders <=1)].value_counts(sort = False, dropna = True, ascending= False, normalize = True, bins = 5),2)"
   ]
  },
  {
   "cell_type": "code",
   "execution_count": 43,
   "metadata": {},
   "outputs": [
    {
     "data": {
      "text/plain": [
       "(-0.002, 0.2]    0.16\n",
       "(0.2, 0.4]       0.07\n",
       "(0.4, 0.6]       0.13\n",
       "(0.6, 0.8]       0.14\n",
       "(0.8, 1.0]       0.50\n",
       "Name: p_dinner_orders, dtype: float64"
      ]
     },
     "execution_count": 43,
     "metadata": {},
     "output_type": "execute_result"
    }
   ],
   "source": [
    "np.round(mcm.p_dinner_orders.loc[(mcm.p_dinner_orders + mcm.p_lunch_orders <=1)].value_counts(sort = False, dropna = True, ascending= False, normalize = True, bins = 5),2)"
   ]
  },
  {
   "cell_type": "code",
   "execution_count": 100,
   "metadata": {},
   "outputs": [
    {
     "data": {
      "text/plain": [
       "0.13"
      ]
     },
     "execution_count": 100,
     "metadata": {},
     "output_type": "execute_result"
    }
   ],
   "source": [
    "np.round(mcm.loc[((mcm.p_lunch_orders==1) & (mcm.p_dinner_orders==0) &(mcm.p_dinner_orders + mcm.p_lunch_orders<=1))].shape[0]/mcm.p_dinner_orders.loc[(mcm.p_dinner_orders + mcm.p_lunch_orders <=1)].shape[0],2)"
   ]
  },
  {
   "cell_type": "code",
   "execution_count": 99,
   "metadata": {},
   "outputs": [
    {
     "data": {
      "text/plain": [
       "0.44"
      ]
     },
     "execution_count": 99,
     "metadata": {},
     "output_type": "execute_result"
    }
   ],
   "source": [
    "np.round(mcm.loc[((mcm.p_dinner_orders==1) & (mcm.p_lunch_orders==0) &(mcm.p_dinner_orders + mcm.p_lunch_orders<=1))].shape[0]/mcm.p_dinner_orders.loc[(mcm.p_dinner_orders + mcm.p_lunch_orders <=1)].shape[0],2)"
   ]
  },
  {
   "cell_type": "code",
   "execution_count": 95,
   "metadata": {},
   "outputs": [
    {
     "data": {
      "text/plain": [
       "0.4"
      ]
     },
     "execution_count": 95,
     "metadata": {},
     "output_type": "execute_result"
    }
   ],
   "source": [
    "np.round(mcm.p_lunch_orders.loc[((mcm.p_lunch_orders<1) & (mcm.p_dinner_orders>0) &(mcm.p_lunch_orders>0) & (mcm.p_dinner_orders<1) &(mcm.p_dinner_orders + mcm.p_lunch_orders<=1))].shape[0]/mcm.p_dinner_orders.loc[(mcm.p_dinner_orders + mcm.p_lunch_orders <=1)].shape[0],2)"
   ]
  },
  {
   "cell_type": "markdown",
   "metadata": {},
   "source": [
    "**El 13% de los usuarios entre enero, febrero y marzo pidó solo al medio día mientras que el 44% pidió sólo en la noche.**"
   ]
  }
 ],
 "metadata": {
  "kernelspec": {
   "display_name": "Python 3",
   "language": "python",
   "name": "python3"
  },
  "language_info": {
   "codemirror_mode": {
    "name": "ipython",
    "version": 3
   },
   "file_extension": ".py",
   "mimetype": "text/x-python",
   "name": "python",
   "nbconvert_exporter": "python",
   "pygments_lexer": "ipython3",
   "version": "3.7.3"
  }
 },
 "nbformat": 4,
 "nbformat_minor": 2
}
